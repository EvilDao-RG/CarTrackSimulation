{
 "cells": [
  {
   "cell_type": "code",
   "execution_count": 479,
   "metadata": {},
   "outputs": [],
   "source": [
    "# Model design\n",
    "import agentpy as ap\n",
    "\n",
    "# Visualization\n",
    "import matplotlib.pyplot as plt\n",
    "import seaborn as sns\n",
    "import IPython\n",
    "import random"
   ]
  },
  {
   "cell_type": "code",
   "execution_count": 480,
   "metadata": {},
   "outputs": [],
   "source": [
    "#in starting points (13,0), the car should be able to also go to the another track\n",
    "# in other words to (14,0), according to this grid this is the formost left lane\n",
    "\n",
    "#in starting points (0,13), the car should be able to algo fo to the another track\n",
    "#in other words (0,12) for example, accordint to this gris this is the foremost upway lane\n",
    "\n",
    "#in starting points (12,24), the car should be able to also go to the another track\n",
    "# in other words to (11,24), according to this grid this is the foremost right lane\n",
    "\n",
    "#in starting points (24,14), the car should be able to also go to the another track\n",
    "# in other words to (24,13), according to this grid this is the formost left lane\n",
    "\n",
    "startingCoordinates = [(13,0),(0,11),(11,24),(24,13)]\n",
    "\n",
    "movement1 =(0,1)\n",
    "movement2 = (1,0)\n",
    "movement3 = (0,-1)\n",
    "movement4 = (-1,0)\n"
   ]
  },
  {
   "cell_type": "code",
   "execution_count": 481,
   "metadata": {},
   "outputs": [],
   "source": [
    "class streetIntersection(ap.Model):\n",
    "\n",
    "    def setup(self):\n",
    "\n",
    "        #define the street limiter, that which will be black\n",
    "        square = int((self.p.size-5)*2) #squares of size -5 as the resting number represents the street\n",
    "        self.roadLimit_xy = ap.AgentList(self,square)\n",
    "        self.roadLimit_x_y = ap.AgentList(self,square)\n",
    "        self.roadLimitxy = ap.AgentList(self,square)\n",
    "        self.roadLimitx_y = ap.AgentList(self,square)\n",
    "\n",
    "        #define car agents\n",
    "        self.carsl = ap.AgentList(self, self.p.n_cars)\n",
    "        self.carsu = ap.AgentList(self, self.p.n_cars)\n",
    "        self.carsr = ap.AgentList(self, self.p.n_cars)\n",
    "        self.carsd = ap.AgentList(self, self.p.n_cars)\n",
    "\n",
    "\n",
    "\n",
    "        #Create street grid\n",
    "        self.street = ap.Grid(self,[self.p.size]*2,track_empty=True)\n",
    "        #add each delimiter\n",
    "        carspos1 = [startingCoordinates[0] for i in range(len(self.carsl))]\n",
    "        carspos2 = [startingCoordinates[1] for i in range(len(self.carsl))]\n",
    "        carspos3 = [startingCoordinates[2] for i in range(len(self.carsl))]\n",
    "        carspos4 = [startingCoordinates[3] for i in range(len(self.carsl))]\n",
    "\n",
    "        self.street.add_agents(self.carsl,positions=carspos1)\n",
    "        self.street.add_agents(self.carsu,positions=carspos2)\n",
    "        self.street.add_agents(self.carsr,positions=carspos3)\n",
    "        self.street.add_agents(self.carsd,positions=carspos4)\n",
    "\n",
    "\n",
    "        #CONDITIONS -> 0:delimiters 1:cars\n",
    "        self.roadLimit_xy.condition = 0\n",
    "        self.carsl.condition = 1\n",
    "        self.carsu.condition = 1\n",
    "        self.carsr.condition = 1\n",
    "        self.carsd.condition = 1\n",
    "\n",
    "\n",
    "    \n",
    "    def step(self):\n",
    "        #we need to select and separate cars in different conditions as they move differently\n",
    "        moving_carsl = self.carsl.select(self.carsl.condition == 1)\n",
    "        moving_carsu = self.carsu.select(self.carsu.condition == 1)\n",
    "        moving_carsr = self.carsr.select(self.carsr.condition == 1)\n",
    "        moving_carsd = self.carsd.select(self.carsd.condition == 1)\n",
    "\n",
    "        stepIndx = 1\n",
    "        for car in moving_carsl:\n",
    "            #position = [a+b for (a,b) in zip(self.street.positions[car],movement1)]\n",
    "            inFront = self.carsl.select(moving_carsl[stepIndx])\n",
    "            #if(inFront.condition != 1):\n",
    "            self.street.move_by(car,movement1)\n",
    "        for car2 in moving_carsu:\n",
    "            self.street.move_by(car2,movement2)\n",
    "        for car3 in moving_carsr:\n",
    "            self.street.move_by(car3,movement3)\n",
    "        for car4 in moving_carsd:\n",
    "            self.street.move_by(car4,movement4)\n",
    "\n",
    "        #move cars\n",
    "        \n"
   ]
  },
  {
   "cell_type": "code",
   "execution_count": 482,
   "metadata": {},
   "outputs": [],
   "source": [
    "parameters = {\n",
    "    'size': 25,\n",
    "    'steps': 100,\n",
    "    'n_cars': 20,\n",
    "}"
   ]
  },
  {
   "cell_type": "code",
   "execution_count": 483,
   "metadata": {},
   "outputs": [
    {
     "name": "stdout",
     "output_type": "stream",
     "text": [
      "[13, 1]\n"
     ]
    },
    {
     "ename": "TypeError",
     "evalue": "getattr(): attribute name must be string",
     "output_type": "error",
     "traceback": [
      "\u001b[0;31m---------------------------------------------------------------------------\u001b[0m",
      "\u001b[0;31mTypeError\u001b[0m                                 Traceback (most recent call last)",
      "Cell \u001b[0;32mIn [483], line 12\u001b[0m\n\u001b[1;32m     10\u001b[0m model \u001b[39m=\u001b[39m streetIntersection(parameters)\n\u001b[1;32m     11\u001b[0m animation \u001b[39m=\u001b[39m ap\u001b[39m.\u001b[39manimate(model, fig, ax, animation_plot)\n\u001b[0;32m---> 12\u001b[0m IPython\u001b[39m.\u001b[39mdisplay\u001b[39m.\u001b[39mHTML(animation\u001b[39m.\u001b[39;49mto_jshtml(fps\u001b[39m=\u001b[39;49m\u001b[39m12\u001b[39;49m))\n",
      "File \u001b[0;32m~/.local/lib/python3.10/site-packages/matplotlib/animation.py:1329\u001b[0m, in \u001b[0;36mAnimation.to_jshtml\u001b[0;34m(self, fps, embed_frames, default_mode)\u001b[0m\n\u001b[1;32m   1325\u001b[0m         path \u001b[39m=\u001b[39m Path(tmpdir, \u001b[39m\"\u001b[39m\u001b[39mtemp.html\u001b[39m\u001b[39m\"\u001b[39m)\n\u001b[1;32m   1326\u001b[0m         writer \u001b[39m=\u001b[39m HTMLWriter(fps\u001b[39m=\u001b[39mfps,\n\u001b[1;32m   1327\u001b[0m                             embed_frames\u001b[39m=\u001b[39membed_frames,\n\u001b[1;32m   1328\u001b[0m                             default_mode\u001b[39m=\u001b[39mdefault_mode)\n\u001b[0;32m-> 1329\u001b[0m         \u001b[39mself\u001b[39;49m\u001b[39m.\u001b[39;49msave(\u001b[39mstr\u001b[39;49m(path), writer\u001b[39m=\u001b[39;49mwriter)\n\u001b[1;32m   1330\u001b[0m         \u001b[39mself\u001b[39m\u001b[39m.\u001b[39m_html_representation \u001b[39m=\u001b[39m path\u001b[39m.\u001b[39mread_text()\n\u001b[1;32m   1332\u001b[0m \u001b[39mreturn\u001b[39;00m \u001b[39mself\u001b[39m\u001b[39m.\u001b[39m_html_representation\n",
      "File \u001b[0;32m~/.local/lib/python3.10/site-packages/matplotlib/animation.py:1078\u001b[0m, in \u001b[0;36mAnimation.save\u001b[0;34m(self, filename, writer, fps, dpi, codec, bitrate, extra_args, metadata, extra_anim, savefig_kwargs, progress_callback)\u001b[0m\n\u001b[1;32m   1076\u001b[0m \u001b[39melse\u001b[39;00m:\n\u001b[1;32m   1077\u001b[0m     total_frames \u001b[39m=\u001b[39m \u001b[39msum\u001b[39m(save_count_list)\n\u001b[0;32m-> 1078\u001b[0m \u001b[39mfor\u001b[39;00m data \u001b[39min\u001b[39;00m \u001b[39mzip\u001b[39m(\u001b[39m*\u001b[39m[a\u001b[39m.\u001b[39mnew_saved_frame_seq() \u001b[39mfor\u001b[39;00m a \u001b[39min\u001b[39;00m all_anim]):\n\u001b[1;32m   1079\u001b[0m     \u001b[39mfor\u001b[39;00m anim, d \u001b[39min\u001b[39;00m \u001b[39mzip\u001b[39m(all_anim, data):\n\u001b[1;32m   1080\u001b[0m         \u001b[39m# TODO: See if turning off blit is really necessary\u001b[39;00m\n\u001b[1;32m   1081\u001b[0m         anim\u001b[39m.\u001b[39m_draw_next_frame(d, blit\u001b[39m=\u001b[39m\u001b[39mFalse\u001b[39;00m)\n",
      "File \u001b[0;32m~/.local/lib/python3.10/site-packages/agentpy/visualization.py:73\u001b[0m, in \u001b[0;36manimate.<locals>.frames\u001b[0;34m()\u001b[0m\n\u001b[1;32m     71\u001b[0m     pre_steps \u001b[39m+\u001b[39m\u001b[39m=\u001b[39m \u001b[39m1\u001b[39m\n\u001b[1;32m     72\u001b[0m \u001b[39melse\u001b[39;00m:\n\u001b[0;32m---> 73\u001b[0m     model\u001b[39m.\u001b[39;49msim_step()\n\u001b[1;32m     74\u001b[0m     model\u001b[39m.\u001b[39mcreate_output()\n\u001b[1;32m     75\u001b[0m \u001b[39myield\u001b[39;00m model\u001b[39m.\u001b[39mt\n",
      "File \u001b[0;32m~/.local/lib/python3.10/site-packages/agentpy/model.py:327\u001b[0m, in \u001b[0;36mModel.sim_step\u001b[0;34m(self)\u001b[0m\n\u001b[1;32m    324\u001b[0m \u001b[39m\"\"\" Proceeds the simulation by one step, incrementing `Model.t` by 1\u001b[39;00m\n\u001b[1;32m    325\u001b[0m \u001b[39mand then calling :func:`Model.step` and :func:`Model.update`.\"\"\"\u001b[39;00m\n\u001b[1;32m    326\u001b[0m \u001b[39mself\u001b[39m\u001b[39m.\u001b[39mt \u001b[39m+\u001b[39m\u001b[39m=\u001b[39m \u001b[39m1\u001b[39m\n\u001b[0;32m--> 327\u001b[0m \u001b[39mself\u001b[39;49m\u001b[39m.\u001b[39;49mstep()\n\u001b[1;32m    328\u001b[0m \u001b[39mself\u001b[39m\u001b[39m.\u001b[39mupdate()\n\u001b[1;32m    329\u001b[0m \u001b[39mif\u001b[39;00m \u001b[39mself\u001b[39m\u001b[39m.\u001b[39mt \u001b[39m>\u001b[39m\u001b[39m=\u001b[39m \u001b[39mself\u001b[39m\u001b[39m.\u001b[39m_steps:\n",
      "Cell \u001b[0;32mIn [481], line 54\u001b[0m, in \u001b[0;36mstreetIntersection.step\u001b[0;34m(self)\u001b[0m\n\u001b[1;32m     52\u001b[0m position \u001b[39m=\u001b[39m [a\u001b[39m+\u001b[39mb \u001b[39mfor\u001b[39;00m (a,b) \u001b[39min\u001b[39;00m \u001b[39mzip\u001b[39m(\u001b[39mself\u001b[39m\u001b[39m.\u001b[39mstreet\u001b[39m.\u001b[39mpositions[car],movement1)]\n\u001b[1;32m     53\u001b[0m \u001b[39mprint\u001b[39m(position)\n\u001b[0;32m---> 54\u001b[0m inFront \u001b[39m=\u001b[39m \u001b[39mself\u001b[39;49m\u001b[39m.\u001b[39;49mcarsl\u001b[39m.\u001b[39;49mselect(moving_carsl[stepIndx])\n\u001b[1;32m     55\u001b[0m \u001b[39mif\u001b[39;00m(inFront\u001b[39m.\u001b[39mcondition \u001b[39m!=\u001b[39m \u001b[39m1\u001b[39m):\n\u001b[1;32m     56\u001b[0m     \u001b[39mself\u001b[39m\u001b[39m.\u001b[39mstreet\u001b[39m.\u001b[39mmove_by(car,movement1)\n",
      "File \u001b[0;32m~/.local/lib/python3.10/site-packages/agentpy/sequences.py:285\u001b[0m, in \u001b[0;36mAgentList.select\u001b[0;34m(self, selection)\u001b[0m\n\u001b[1;32m    278\u001b[0m \u001b[39mdef\u001b[39;00m \u001b[39mselect\u001b[39m(\u001b[39mself\u001b[39m, selection):\n\u001b[1;32m    279\u001b[0m     \u001b[39m\"\"\" Returns a new :class:`AgentList` based on `selection`.\u001b[39;00m\n\u001b[1;32m    280\u001b[0m \n\u001b[1;32m    281\u001b[0m \u001b[39m    Arguments:\u001b[39;00m\n\u001b[1;32m    282\u001b[0m \u001b[39m        selection (list of bool): List with same length as the agent list.\u001b[39;00m\n\u001b[1;32m    283\u001b[0m \u001b[39m            Positions that return True will be selected.\u001b[39;00m\n\u001b[1;32m    284\u001b[0m \u001b[39m    \"\"\"\u001b[39;00m\n\u001b[0;32m--> 285\u001b[0m     \u001b[39mreturn\u001b[39;00m AgentList(\u001b[39mself\u001b[39m\u001b[39m.\u001b[39mmodel, [a \u001b[39mfor\u001b[39;00m a, s \u001b[39min\u001b[39;00m \u001b[39mzip\u001b[39m(\u001b[39mself\u001b[39m, selection) \u001b[39mif\u001b[39;00m s])\n",
      "File \u001b[0;32m~/.local/lib/python3.10/site-packages/agentpy/sequences.py:285\u001b[0m, in \u001b[0;36m<listcomp>\u001b[0;34m(.0)\u001b[0m\n\u001b[1;32m    278\u001b[0m \u001b[39mdef\u001b[39;00m \u001b[39mselect\u001b[39m(\u001b[39mself\u001b[39m, selection):\n\u001b[1;32m    279\u001b[0m     \u001b[39m\"\"\" Returns a new :class:`AgentList` based on `selection`.\u001b[39;00m\n\u001b[1;32m    280\u001b[0m \n\u001b[1;32m    281\u001b[0m \u001b[39m    Arguments:\u001b[39;00m\n\u001b[1;32m    282\u001b[0m \u001b[39m        selection (list of bool): List with same length as the agent list.\u001b[39;00m\n\u001b[1;32m    283\u001b[0m \u001b[39m            Positions that return True will be selected.\u001b[39;00m\n\u001b[1;32m    284\u001b[0m \u001b[39m    \"\"\"\u001b[39;00m\n\u001b[0;32m--> 285\u001b[0m     \u001b[39mreturn\u001b[39;00m AgentList(\u001b[39mself\u001b[39m\u001b[39m.\u001b[39mmodel, [a \u001b[39mfor\u001b[39;00m a, s \u001b[39min\u001b[39;00m \u001b[39mzip\u001b[39m(\u001b[39mself\u001b[39m, selection) \u001b[39mif\u001b[39;00m s])\n",
      "File \u001b[0;32m~/.local/lib/python3.10/site-packages/agentpy/objects.py:30\u001b[0m, in \u001b[0;36mObject.__getitem__\u001b[0;34m(self, key)\u001b[0m\n\u001b[1;32m     29\u001b[0m \u001b[39mdef\u001b[39;00m \u001b[39m__getitem__\u001b[39m(\u001b[39mself\u001b[39m, key):\n\u001b[0;32m---> 30\u001b[0m     \u001b[39mreturn\u001b[39;00m \u001b[39mgetattr\u001b[39;49m(\u001b[39mself\u001b[39;49m, key)\n",
      "\u001b[0;31mTypeError\u001b[0m: getattr(): attribute name must be string"
     ]
    }
   ],
   "source": [
    "# Create single-run animation with custom colors\n",
    "\n",
    "def animation_plot(model, ax):\n",
    "    attr_grid = model.street.attr_grid('condition')\n",
    "    color_dict = {0:'#000000', 1:'#0000FF',None: '#d5e5d5'}\n",
    "    ap.gridplot(attr_grid, ax=ax, color_dict=color_dict, convert=True)\n",
    "    ax.set_title(f\"TESTING STREET\\n\")\n",
    "\n",
    "fig, ax = plt.subplots()\n",
    "model = streetIntersection(parameters)\n",
    "animation = ap.animate(model, fig, ax, animation_plot)\n",
    "IPython.display.HTML(animation.to_jshtml(fps=12))"
   ]
  }
 ],
 "metadata": {
  "kernelspec": {
   "display_name": "Python 3.10.6 64-bit",
   "language": "python",
   "name": "python3"
  },
  "language_info": {
   "codemirror_mode": {
    "name": "ipython",
    "version": 3
   },
   "file_extension": ".py",
   "mimetype": "text/x-python",
   "name": "python",
   "nbconvert_exporter": "python",
   "pygments_lexer": "ipython3",
   "version": "3.10.6"
  },
  "orig_nbformat": 4,
  "vscode": {
   "interpreter": {
    "hash": "916dbcbb3f70747c44a77c7bcd40155683ae19c65e1c03b4aa3499c5328201f1"
   }
  }
 },
 "nbformat": 4,
 "nbformat_minor": 2
}
